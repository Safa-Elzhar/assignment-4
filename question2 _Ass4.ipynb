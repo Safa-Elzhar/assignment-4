{
  "nbformat": 4,
  "nbformat_minor": 0,
  "metadata": {
    "colab": {
      "provenance": []
    },
    "kernelspec": {
      "name": "python3",
      "display_name": "Python 3"
    },
    "language_info": {
      "name": "python"
    }
  },
  "cells": [
    {
      "cell_type": "code",
      "execution_count": null,
      "metadata": {
        "id": "q57XMWeBz_Pv"
      },
      "outputs": [],
      "source": [
        "file_path = '/PathLinker_PPI.txt'\n",
        "original_file = open(file_path, 'r')\n",
        "lines = original_file.readlines()\n",
        "original_file.close()\n"
      ]
    },
    {
      "cell_type": "code",
      "source": [
        "with open(file_path, 'r') as original_file:\n",
        "    print(\"All Line:\", original_file.readlines())  # Read all lines\n"
      ],
      "metadata": {
        "colab": {
          "base_uri": "https://localhost:8080/"
        },
        "id": "oMipXtq9A9LU",
        "outputId": "84f7d4f5-545a-42c9-d3b6-1788b21ff3c1"
      },
      "execution_count": null,
      "outputs": [
        {
          "output_type": "stream",
          "name": "stdout",
          "text": [
            "All Line: ['#tail\\thead\\tedge_weight\\tedge_type\\n', 'Q8TBF5\\tQ9UKB1\\t3.11133e-01\\tMI:0004 (affinity chromatography technology)\\n', 'Q8TBF4\\tQ8NI27\\t2.01461e-01\\tMI:0401 (biochemical)\\n', 'Q8TBF4\\tQ15696\\t3.11133e-01\\tMI:0004 (affinity chromatography technology)\\n', 'Q8TBF4\\tO43660\\t2.01461e-01\\tMI:0401 (biochemical)\\n', 'Q8TBF4\\tQ96HE9\\t3.11133e-01\\tMI:0004 (affinity chromatography technology)\\n', 'Q8TBF4\\tQ6I9Y2\\t2.01461e-01\\tMI:0401 (biochemical)\\n', 'Q8TBF4\\tQ8N5P1\\t3.11133e-01\\tMI:0004 (affinity chromatography technology)\\n', 'Q5MIZ7\\tQ53ET0\\t4.93089e-01\\tKEGG inhibition,dephosphorylation\\n', 'Q5MIZ7\\tP51648\\t3.11133e-01\\tMI:0004 (affinity chromatography technology)\\n', 'Q5MIZ7\\tP16104\\t7.50000e-01\\tMI:0663 (confocal microscopy)|SPIKE']\n"
          ]
        }
      ]
    },
    {
      "cell_type": "code",
      "source": [
        "affinity_file = \"PathLinker_PPI_affinity.txt\"\n",
        "biochemical_file = \"PathLinker_PPI_biochemical.txt\"\n",
        "others_file = \"PathLinker_PPI_others.txt\"\n",
        "with open(file_path, \"r\") as original_file, \\\n",
        "     open(affinity_file, \"w\") as affinity_out, \\\n",
        "     open(biochemical_file, \"w\") as biochemical_out, \\\n",
        "     open(others_file, \"w\") as others_out:\n",
        "   print\n",
        "   for line in original_file:\n",
        "      if  \"KEGG\" in line:\n",
        "            continue\n",
        "      if \"affinity\" in line:\n",
        "         affinity_out.write(line)\n",
        "      elif \"biochemical\" in line:\n",
        "         biochemical_out.write(line)\n",
        "      else:\n",
        "         others_out.write(line)"
      ],
      "metadata": {
        "id": "ALD8fsrL3eC4"
      },
      "execution_count": 25,
      "outputs": []
    },
    {
      "cell_type": "code",
      "source": [],
      "metadata": {
        "id": "4eaCyqOqzC4D"
      },
      "execution_count": null,
      "outputs": []
    }
  ]
}