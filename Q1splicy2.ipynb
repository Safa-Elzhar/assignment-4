{
  "nbformat": 4,
  "nbformat_minor": 0,
  "metadata": {
    "colab": {
      "provenance": []
    },
    "kernelspec": {
      "name": "python3",
      "display_name": "Python 3"
    },
    "language_info": {
      "name": "python"
    }
  },
  "cells": [
    {
      "cell_type": "code",
      "execution_count": 2,
      "metadata": {
        "colab": {
          "base_uri": "https://localhost:8080/"
        },
        "id": "ul3jlS_03uXZ",
        "outputId": "dd37cad4-300b-4fa4-f293-415ab4e8df6d"
      },
      "outputs": [
        {
          "output_type": "stream",
          "name": "stdout",
          "text": [
            "Combined exons after splicing out the intron: CUGAACUCAUUCA\n",
            "new seq is : CUGAACUCAUUCA\n"
          ]
        }
      ],
      "source": [
        "sequence = \"CUGAACUGUCACUGAGCAUUCA\"    # Define sequence with exons and intron\n",
        "\n",
        "\n",
        "sequence = sequence.replace(\"GU\", \"S\")     # Replace \"GU\" with \"S\"\n",
        "sequence = sequence.replace(\"AG\", \"E\")     # and \"AG\" with \"E\"\n",
        "\n",
        "\n",
        "intron_start = sequence.index(\"S\")         # indexing of intron start \"S\" and intron end \"E\"\n",
        "intron_end = sequence.index(\"E\")\n",
        "\n",
        "\n",
        "exon1 = sequence[:intron_start]              # Extract he exon\n",
        "exon2 = sequence[intron_end + 1:]\n",
        "\n",
        "\n",
        "combined_exons = exon1 + exon2           # Combine the exons\n",
        "\n",
        "print(\"Combined exons after splicing out the intron:\" , combined_exons)\n",
        "\n",
        "print(\"new seq is :\", combined_exons)\n"
      ]
    }
  ]
}