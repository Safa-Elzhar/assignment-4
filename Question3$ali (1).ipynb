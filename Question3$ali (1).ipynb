{
  "nbformat": 4,
  "nbformat_minor": 0,
  "metadata": {
    "colab": {
      "provenance": []
    },
    "kernelspec": {
      "name": "python3",
      "display_name": "Python 3"
    },
    "language_info": {
      "name": "python"
    }
  },
  "cells": [
    {
      "cell_type": "code",
      "execution_count": 1,
      "metadata": {
        "colab": {
          "base_uri": "https://localhost:8080/"
        },
        "id": "6-9LZZSJ5bTi",
        "outputId": "770a02b4-fb2c-44ec-a2b6-f76ed6dbace4"
      },
      "outputs": [
        {
          "output_type": "stream",
          "name": "stdout",
          "text": [
            "Collecting biopython\n",
            "  Downloading biopython-1.84-cp310-cp310-manylinux_2_17_x86_64.manylinux2014_x86_64.whl.metadata (12 kB)\n",
            "Requirement already satisfied: numpy in /usr/local/lib/python3.10/dist-packages (from biopython) (1.26.4)\n",
            "Downloading biopython-1.84-cp310-cp310-manylinux_2_17_x86_64.manylinux2014_x86_64.whl (3.2 MB)\n",
            "\u001b[2K   \u001b[90m━━━━━━━━━━━━━━━━━━━━━━━━━━━━━━━━━━━━━━━━\u001b[0m \u001b[32m3.2/3.2 MB\u001b[0m \u001b[31m25.7 MB/s\u001b[0m eta \u001b[36m0:00:00\u001b[0m\n",
            "\u001b[?25hInstalling collected packages: biopython\n",
            "Successfully installed biopython-1.84\n"
          ]
        }
      ],
      "source": [
        "!pip install biopython\n",
        "from Bio.Seq import Seq\n",
        "from Bio.SeqRecord import SeqRecord\n",
        "from Bio.Align import MultipleSeqAlignment\n",
        "from Bio import AlignIO\n",
        "from Bio import SeqIO"
      ]
    },
    {
      "cell_type": "code",
      "source": [
        "from Bio import Entrez, SeqIO\n",
        "\n",
        "\n",
        "with open('IDS.txt', \"r\") as file:\n",
        "    sequence_ids = [line.strip() for line in file.readlines()]\n",
        "db = \"nucleotide\"\n",
        "sequences = []\n",
        "\n",
        "for seq_id in sequence_ids:\n",
        "    with Entrez.efetch(db=db, id=seq_id, rettype=\"fasta\", retmode=\"text\") as handle:\n",
        "        sequence = handle.read()\n",
        "        sequences.append(sequence)\n",
        "    with open('sequences.fasta', 'w') as output_file:\n",
        "        output_file.writelines(sequences)\n"
      ],
      "metadata": {
        "id": "7vmd5ZXvA9RQ",
        "colab": {
          "base_uri": "https://localhost:8080/"
        },
        "outputId": "0a2a4ea5-1f29-4497-f2e9-77f6c99e94e3"
      },
      "execution_count": 2,
      "outputs": [
        {
          "output_type": "stream",
          "name": "stderr",
          "text": [
            "/usr/local/lib/python3.10/dist-packages/Bio/Entrez/__init__.py:734: UserWarning: \n",
            "            Email address is not specified.\n",
            "\n",
            "            To make use of NCBI's E-utilities, NCBI requires you to specify your\n",
            "            email address with each request.  As an example, if your email address\n",
            "            is A.N.Other@example.com, you can specify it as follows:\n",
            "               from Bio import Entrez\n",
            "               Entrez.email = 'A.N.Other@example.com'\n",
            "            In case of excessive usage of the E-utilities, NCBI will attempt to contact\n",
            "            a user at the email address provided before blocking access to the\n",
            "            E-utilities.\n",
            "  warnings.warn(\n"
          ]
        }
      ]
    },
    {
      "cell_type": "code",
      "source": [
        "output_file = \"sequences.fasta\"\n",
        "with open(output_file, \"r\") as fasta_file:\n",
        "    print(\"Lines:\", fasta_file.readlines())"
      ],
      "metadata": {
        "colab": {
          "base_uri": "https://localhost:8080/"
        },
        "id": "C-1xGTvu37OV",
        "outputId": "17026dde-e7b0-424f-8fce-ac332bba55f4"
      },
      "execution_count": 3,
      "outputs": [
        {
          "output_type": "stream",
          "name": "stdout",
          "text": [
            "Lines: ['>NM_001200.4 Homo sapiens bone morphogenetic protein 2 (BMP2), mRNA\\n', 'GCCGCCGCCGCCGTCGCCGCCGCCGGAGTCCTCGCCCCGCCGCGCTGCGCCCGGCTCGCGCTGCGCTAGT\\n', 'CGCTCCGCTTCCCACACCCCGCCGGGGACTGGCAGCCGCCGCCGCACATCTGCCGCCACAGCCTCCGCCG\\n', 'GCTACCCGAACGTTCTCGGGGCCAGCGCCGAGTGGATCACCGGGGACCGCGAGGCACCCGCGCGCCGCAG\\n', 'ACCCCGCGCGGGCTGGAGCACCCGGCAGAGCGCGCCACAGCGCCGTGGCCTCTGCTGCCCGGGCTGCGCC\\n', 'AGAGCCGCGGACGGGCGCGCAGAGCGCCGGGGACTCCGGAGCCGATCCCTAGCGCCGCGATGCGGAGCAC\\n', 'CTACTGCAGGAGATCGGGGGCCTGGGACGCGCTGGCCGAGGTGTGATCGGACCCCAGGCTAGCCACAAAG\\n', 'GGCACTTGGCCCCAGGGCTAGGAGAGCGAGGGGAGAGCACAGCCACCCGCCTCGGCGGCCCGGGACTCGG\\n', 'CTCGACTCGCCGGAGAATGCGCCCGAGGACGACGGGGCGCCAGAGCCGCGGTGCTTTCAACTGGCGAGCG\\n', 'CGAATGGGGGTGCACTGGAGTAAGGCAGAGTGATGCGGGGGGGCAACTCGCCTGGCACCGAGATCGCCGC\\n', 'CGTGCCCTTCCCTGGACCCGGCGTCGCCCAGGATGGCTGCCCCGAGCCATGGGCCGCGGCGGAGCTAGCG\\n', 'CGGAGCGCCCGACCCTCGACCCCCGAGTCCCGGAGCCGGCCCCGCGCGGGGCCACGCGTCCCTCGGGCGC\\n', 'TGGTTCCTAAGGAGGACGACAGCACCAGCTTCTCCTTTCTCCCTTCCCTTCCCTGCCCCGCACTCCTCCC\\n', 'CCTGCTCGCTGTTGTTGTGTGTCAGCACTTGGCTGGGGACTTCTTGAACTTGCAGGGAGAATAACTTGCG\\n', 'CACCCCACTTTGCGCCGGTGCCTTTGCCCCAGCGGAGCCTGCTTCGCCATCTCCGAGCCCCACCGCCCCT\\n', 'CCACTCCTCGGCCTTGCCCGACACTGAGACGCTGTTCCCAGCGTGAAAAGAGAGACTGCGCGGCCGGCAC\\n', 'CCGGGAGAAGGAGGAGGCAAAGAAAAGGAACGGACATTCGGTCCTTGCGCCAGGTCCTTTGACCAGAGTT\\n', 'TTTCCATGTGGACGCTCTTTCAATGGACGTGTCCCCGCGTGCTTCTTAGACGGACTGCGGTCTCCTAAAG\\n', 'GTCGACCATGGTGGCCGGGACCCGCTGTCTTCTAGCGTTGCTGCTTCCCCAGGTCCTCCTGGGCGGCGCG\\n', 'GCTGGCCTCGTTCCGGAGCTGGGCCGCAGGAAGTTCGCGGCGGCGTCGTCGGGCCGCCCCTCATCCCAGC\\n', 'CCTCTGACGAGGTCCTGAGCGAGTTCGAGTTGCGGCTGCTCAGCATGTTCGGCCTGAAACAGAGACCCAC\\n', 'CCCCAGCAGGGACGCCGTGGTGCCCCCCTACATGCTAGACCTGTATCGCAGGCACTCAGGTCAGCCGGGC\\n', 'TCACCCGCCCCAGACCACCGGTTGGAGAGGGCAGCCAGCCGAGCCAACACTGTGCGCAGCTTCCACCATG\\n', 'AAGAATCTTTGGAAGAACTACCAGAAACGAGTGGGAAAACAACCCGGAGATTCTTCTTTAATTTAAGTTC\\n', 'TATCCCCACGGAGGAGTTTATCACCTCAGCAGAGCTTCAGGTTTTCCGAGAACAGATGCAAGATGCTTTA\\n', 'GGAAACAATAGCAGTTTCCATCACCGAATTAATATTTATGAAATCATAAAACCTGCAACAGCCAACTCGA\\n', 'AATTCCCCGTGACCAGACTTTTGGACACCAGGTTGGTGAATCAGAATGCAAGCAGGTGGGAAAGTTTTGA\\n', 'TGTCACCCCCGCTGTGATGCGGTGGACTGCACAGGGACACGCCAACCATGGATTCGTGGTGGAAGTGGCC\\n', 'CACTTGGAGGAGAAACAAGGTGTCTCCAAGAGACATGTTAGGATAAGCAGGTCTTTGCACCAAGATGAAC\\n', 'ACAGCTGGTCACAGATAAGGCCATTGCTAGTAACTTTTGGCCATGATGGAAAAGGGCATCCTCTCCACAA\\n', 'AAGAGAAAAACGTCAAGCCAAACACAAACAGCGGAAACGCCTTAAGTCCAGCTGTAAGAGACACCCTTTG\\n', 'TACGTGGACTTCAGTGACGTGGGGTGGAATGACTGGATTGTGGCTCCCCCGGGGTATCACGCCTTTTACT\\n', 'GCCACGGAGAATGCCCTTTTCCTCTGGCTGATCATCTGAACTCCACTAATCATGCCATTGTTCAGACGTT\\n', 'GGTCAACTCTGTTAACTCTAAGATTCCTAAGGCATGCTGTGTCCCGACAGAACTCAGTGCTATCTCGATG\\n', 'CTGTACCTTGACGAGAATGAAAAGGTTGTATTAAAGAACTATCAGGACATGGTTGTGGAGGGTTGTGGGT\\n', 'GTCGCTAGTACAGCAAAATTAAATACATAAATATATATATATATATATATTTTAGAAAAAAGAAAAAAAC\\n', 'AAACAAACAAAAAAACCCCACCCCAGTTGACACTTTAATATTTCCCAATGAAGACTTTATTTATGGAATG\\n', 'GAATGGAAAAAAAAACAGCTATTTTGAAAATATATTTATATCTACGAAAAGAAGTTGGGAAAACAAATAT\\n', 'TTTAATCAGAGAATTATTCCTTAAAGATTTAAAATGTATTTAGTTGTACATTTTATATGGGTTCAACCCC\\n', 'AGCACATGAAGTATAATGGTCAGATTTATTTTGTATTTATTTACTATTATAACCACTTTTTAGGAAAAAA\\n', 'ATAGCTAATTTGTATTTATATGTAATCAAAAGAAGTATCGGGTTTGTACATAATTTTCCAAAAATTGTAG\\n', 'TTGTTTTCAGTTGTGTGTATTTAAGATGAAAAGTCTACATGGAAGGTTACTCTGGCAAAGTGCTTAGCAC\\n', 'GTTTGCTTTTTTGCAGTGCTACTGTTGAGTTCACAAGTTCAAGTCCAGAAAAAAAAAGTGGATAATCCAC\\n', 'TCTGCTGACTTTCAAGATTATTATATTATTCAATTCTCAGGAATGTTGCAGAGTGATTGTCCAATCCATG\\n', 'AGAATTTACATCCTTATTAGGTGGAATATTTGGATAAGAACCAGACATTGCTGATCTATTATAGAAACTC\\n', 'TCCTCCTGCCCCTTAATTTACAGAAAGAATAAAGCAGGATCCATAGAAATAATTAGGAAAACGATGAACC\\n', 'TGCAGGAAAGTGAATGATGGTTTGTTGTTCTTCTTTCCTAAATTAGTGATCCCTTCAAAGGGGCTGATCT\\n', 'GGCCAAAGTATTCAATAAAACGTAAGATTTCTTCATTATTGATATTGTGGTCATATATATTTAAAATTGA\\n', 'TATCTCGTGGCCCTCATCAAGGGTTGGAAATTTATTTGTGTTTTACCTTTACCTCATCTGAGAGCTCTTT\\n', 'ATTCTCCAAAGAACCCAGTTTTCTAACTTTTTGCCCAACACGCAGCAAAATTATGCACATCGTGTTTTCT\\n', 'GCCCACCCTCTGTTCTCTGACCTATCAGCTTGCTTTTCTTTCCAAGGTTGTGTGTTTGAACACATTTCTC\\n', 'CAAATGTTAAACCTATTTCAGATAATAAATATCAAATCTCTGGCA\\n', '\\n', '>NM_002046.7 Homo sapiens glyceraldehyde-3-phosphate dehydrogenase (GAPDH), transcript variant 1, mRNA\\n', 'GCTCTCTGCTCCTCCTGTTCGACAGTCAGCCGCATCTTCTTTTGCGTCGCCAGCCGAGCCACATCGCTCA\\n', 'GACACCATGGGGAAGGTGAAGGTCGGAGTCAACGGATTTGGTCGTATTGGGCGCCTGGTCACCAGGGCTG\\n', 'CTTTTAACTCTGGTAAAGTGGATATTGTTGCCATCAATGACCCCTTCATTGACCTCAACTACATGGTTTA\\n', 'CATGTTCCAATATGATTCCACCCATGGCAAATTCCATGGCACCGTCAAGGCTGAGAACGGGAAGCTTGTC\\n', 'ATCAATGGAAATCCCATCACCATCTTCCAGGAGCGAGATCCCTCCAAAATCAAGTGGGGCGATGCTGGCG\\n', 'CTGAGTACGTCGTGGAGTCCACTGGCGTCTTCACCACCATGGAGAAGGCTGGGGCTCATTTGCAGGGGGG\\n', 'AGCCAAAAGGGTCATCATCTCTGCCCCCTCTGCTGATGCCCCCATGTTCGTCATGGGTGTGAACCATGAG\\n', 'AAGTATGACAACAGCCTCAAGATCATCAGCAATGCCTCCTGCACCACCAACTGCTTAGCACCCCTGGCCA\\n', 'AGGTCATCCATGACAACTTTGGTATCGTGGAAGGACTCATGACCACAGTCCATGCCATCACTGCCACCCA\\n', 'GAAGACTGTGGATGGCCCCTCCGGGAAACTGTGGCGTGATGGCCGCGGGGCTCTCCAGAACATCATCCCT\\n', 'GCCTCTACTGGCGCTGCCAAGGCTGTGGGCAAGGTCATCCCTGAGCTGAACGGGAAGCTCACTGGCATGG\\n', 'CCTTCCGTGTCCCCACTGCCAACGTGTCAGTGGTGGACCTGACCTGCCGTCTAGAAAAACCTGCCAAATA\\n', 'TGATGACATCAAGAAGGTGGTGAAGCAGGCGTCGGAGGGCCCCCTCAAGGGCATCCTGGGCTACACTGAG\\n', 'CACCAGGTGGTCTCCTCTGACTTCAACAGCGACACCCACTCCTCCACCTTTGACGCTGGGGCTGGCATTG\\n', 'CCCTCAACGACCACTTTGTCAAGCTCATTTCCTGGTATGACAACGAATTTGGCTACAGCAACAGGGTGGT\\n', 'GGACCTCATGGCCCACATGGCCTCCAAGGAGTAAGACCCCTGGACCACCAGCCCCAGCAAGAGCACAAGA\\n', 'GGAAGAGAGAGACCCTCACTGCTGGGGAGTCCCTGCCACACTCAGTCCCCCACCACACTGAATCTCCCCT\\n', 'CCTCACAGTTGCCATGTAGACCCCTTGAAGAGGGGAGGGGCCTAGGGAGCCGCACCTTGTCATGTACCAT\\n', 'CAATAAAGTACCCTGTGCTCAACCA\\n', '\\n', '>NM_001354.6 Homo sapiens aldo-keto reductase family 1 member C2 (AKR1C2), transcript variant 1, mRNA\\n', 'GAAAGTGTGTAGCACCTCCACCTTCTCTCTCTCTCTCCCTCTCCCTCTCCTGCCAGCCAAGTGAAGACAT\\n', 'GCTTACTTCCCCTTCACCTTCCTTCATGATGTTACCATTGGAATGACATACTGCATCCTATAGTTATACC\\n', 'ATCCACTCTGAAATCAATGTGAATTTAACTTCAGTTCCATACAGAAACTTCTTTTCCACAGGTAAGAAAC\\n', 'GGTTGAACTGGATGCAATTTTTATCACAGCTTGTGTAAGACTGCCTCTGTCCCTCCTCTCACATGCCATT\\n', 'GGTTAACCAGCAGACAGTGTGCTCAGGGGCGTTGCCAGCTCATTGCTCTTATAGCCTGTGAGGGAGGAAG\\n', 'AAACATTTGCTAACCAGGCCAGTGACAGAAATGGATTCGAAATACCAGTGTGTGAAGCTGAATGATGGTC\\n', 'ACTTCATGCCTGTCCTGGGATTTGGCACCTATGCGCCTGCAGAGGTTCCTAAAAGTAAAGCTCTAGAGGC\\n', 'CGTCAAATTGGCAATAGAAGCCGGGTTCCACCATATTGATTCTGCACATGTTTACAATAATGAGGAGCAG\\n', 'GTTGGACTGGCCATCCGAAGCAAGATTGCAGATGGCAGTGTGAAGAGAGAAGACATATTCTACACTTCAA\\n', 'AGCTTTGGAGCAATTCCCATCGACCAGAGTTGGTCCGACCAGCCTTGGAAAGGTCACTGAAAAATCTTCA\\n', 'ATTGGACTATGTTGACCTCTATCTTATTCATTTTCCAGTGTCTGTAAAGCCAGGTGAGGAAGTGATCCCA\\n', 'AAAGATGAAAATGGAAAAATACTATTTGACACAGTGGATCTCTGTGCCACATGGGAGGCCATGGAGAAGT\\n', 'GTAAAGATGCAGGATTGGCCAAGTCCATCGGGGTGTCCAACTTCAACCACAGGCTGCTGGAGATGATCCT\\n', 'CAACAAGCCAGGGCTCAAGTACAAGCCTGTCTGCAACCAGGTGGAATGTCATCCTTACTTCAACCAGAGA\\n', 'AAACTGCTGGATTTCTGCAAGTCAAAAGACATTGTTCTGGTTGCCTATAGTGCTCTGGGATCCCATCGAG\\n', 'AAGAACCATGGGTGGACCCGAACTCCCCGGTGCTCTTGGAGGACCCAGTCCTTTGTGCCTTGGCAAAAAA\\n', 'GCACAAGCGAACCCCAGCCCTGATTGCCCTGCGCTACCAGCTGCAGCGTGGGGTTGTGGTCCTGGCCAAG\\n', 'AGCTACAATGAGCAGCGCATCAGACAGAACGTGCAGGTGTTTGAATTCCAGTTGACTTCAGAGGAGATGA\\n', 'AAGCCATAGATGGCCTAAACAGAAATGTGCGATATTTGACCCTTGATATTTTTGCTGGCCCCCCTAATTA\\n', 'TCCATTTTCTGATGAATATTAACATGGAGGGCATTGCATGAGGTCTGCCAGAAGGCCCTGCGTGTGGATG\\n', 'GTGACACAGAGGATGGCTCTATGCTGGTGACTGGACACATCGCCTCTGGTTAAATCTCTCCTGCTTGGCG\\n', 'ACTTCAGTAAGCTACAGCTAAGCCCATCGGCCGGAAAAGAAAGACAATAATTTTGTTTTTCATTTTGAAA\\n', 'AAATTAAATGCTCTCTCCTAAAGATTCTTCACCTACTTTGGTCTCCATAACTTCTATGTTTTCTCTCCTT\\n', 'CTGACACACTAGTGCCCCCAAATTGTGATTTGCCTATACGTTTAGGGCCGGGGTTGGAAGATGTTAACAA\\n', 'CCATTTAAGATTCATTTCTGCAGTGGGAGTGGGTGGAGTTTCACCCTCTGGGAAAGGGGCAGGTGACAGG\\n', 'TATTTATCAGTCAGTGCCTCTCTAGCTCTTGTAGGAAGAAGCACACGCAGGATGGAGTCTAGAGGATGAG\\n', 'CGATATTGACTAGCAATTCATGGGCTCCCTCCAGCAGTGCGAGGGTCAGAGTTTCTGGAGCCTTGGGAGG\\n', 'AGGCATCCCTGTGAGGGGGGGTTAGGGAGATGGGAGGGCACCAGGAAAAGTGATTAGAAGTCAGGTATGG\\n', 'GAAGGCTAAATAGGACAGAGTCGAGTACATCTCTGCTTGGAAAAACATATCAACACCCTTTTTTTTGATC\\n', 'ATTATATCTTGTTCATAAAAGAAAACTTTCCACATTGTTTTAACAAACCCCACAGCTGAGAGTCAGGCCT\\n', 'GAATCTTTGATGTGTGCCCATTCACAACGTTGACCCTATTGGTTTGTGGTGGGGCAGGACATCGAAGATA\\n', 'TCATTGACTCATCACATTCCCCTGAATAGCTCATATTTAGAAAATATTCTTAGATTGTAAAAATGTACTG\\n', 'TTCATTTGTTATATGCAATCTTTTAAATGTTTTATACTTTAAACAAGGCATAGTTACAAGTATAAAACAT\\n', 'AAATATCCCAAAGCCATTATGCATGGCACTCAAGATTAAAATGGGAAATAATACATCTAATAAATCAAAT\\n', 'GTTCCAAGACTTCAAATGTCTTTTGGAAACAGGCTATGTAAAACAGCACACTGGTTTCAAACTTTGGTAA\\n', 'ATTTTAAGAAGAACTCTTACAAAGGCATTTAATTCTTATACATAATTTTCAGGGGAACTAATCAAATCAG\\n', 'CTAATCATGAAGACATGATTTTCGTTTTAGAAAACACTTTTGAAAACTTGGGATAATCTCATGTCTTAAT\\n', 'GATCAAAGCATTATGAGAAGGACAGTGGTTTTTTACCTGGGCACACTTTCTAACACATTTACTCTCCACT\\n', 'ATTCGTACTCTGGTAGCCATGTTAACCCCATCAGAGATTCCTTCTCAAGCCATGTCTCAGAGCTGATAGG\\n', 'CATCCCAGCAAGTTTTGCAGCTCACAATTTTTCTGTAAATTACTTATTCTATAAAATTGGAAGAGGCCAT\\n', 'AAACTTTGGAGGGCCCTAGACCAATTTTTTGGATTATTTCTGGTCTACTCTCATTCCGTTGATGATCTTA\\n', 'GATATTCTCTGCATTAAATATCACCTCTAGGCTGAGAAATCCACCAAAAAATATTTCTAGCTCAGCGTTT\\n', 'TCCTCCAAATCTTCAATGGAAGATCATAATGTGAACTCTGCATCTCCATGTTAAAGTTTAATGGACATTC\\n', 'ACACTTAGCATGTCTCAAAGAAATCTCATGTAAACCATGGCCATCCTGTTCTACCTTAACTTTCTGAGTC\\n', 'TATGGAATGATAATTTCACATCTCATAAACTTGACTGATGTAAGTGTCAAGAAAAGATTGACATTTTGTT\\n', 'AAAACTTCGTAGCCAAGTGTGTAACGCTTAAGCAGACTTTCATATTTCAAATCTCTATAGCACGTGTAAC\\n', 'TCTTTTTTCAAGATGTGAAATAATCATTAGGTCAGTCATTTGTAAATAGTACGGCTGCTGTGGGCTTTTT\\n', 'CCAGTTCTTCACCATCCATTTTTATAAAACTCTTATTGTTAAAAAAAAAAAGTTACTCAGAATTTCATAA\\n', 'AGCCAAACACCTGATTTCAGGAACACTTGAGATGTAAGAAAATTTTATAGGGACCTCCAATCACTAATTT\\n', 'TCCTATTTTTTCTCTCAAAGAAATGCTGAAGGGAGGAATTCAGGTTGAATGAAAGGAAATAGTAACTTAC\\n', 'AGCCATATAGAGTTATAAAGACTTCTTGTAAATGTGAACATATGGTAAAATATAAAAACATGTATTTTTG\\n', 'AAA\\n', '\\n', '>NM_001355.4 Homo sapiens D-dopachrome tautomerase (DDT), transcript variant 1, mRNA\\n', 'GATCCCGGTGCCAGGGACCCTGCCCAGTTCCAGGCGTCGCCCTGACCCAGAAACGACTGGGCGCCGCCGT\\n', 'CCTGGAAAGGCCCCAGCGCACGGACATCTGAGGAGCTGTTTCCGTTCCTCTGCCCGCCATGCCGTTCCTG\\n', 'GAGCTGGACACGAATTTGCCCGCCAACCGAGTGCCCGCGGGGCTGGAGAAACGACTCTGCGCCGCCGCTG\\n', 'CCTCCATCCTGGGCAAACCTGCGGACCGCGTGAACGTGACGGTACGGCCGGGCCTGGCCATGGCGCTGAG\\n', 'CGGGTCCACCGAGCCCTGCGCGCAGCTGTCCATCTCCTCCATCGGCGTAGTGGGCACCGCCGAGGACAAC\\n', 'CGCAGCCACAGCGCCCACTTCTTTGAGTTTCTCACCAAGGAGCTAGCCCTGGGCCAGGACCGGATACTTA\\n', 'TCCGCTTTTTCCCCTTGGAGTCCTGGCAGATTGGCAAGATAGGGACGGTCATGACTTTTTTATGATTGGG\\n', 'CACGGAGGGATCCAGGGCATCTGTGAACTGGCTGCTTCTTCCAGAGAGATCTCTTGGCAGAGTGAGGGCC\\n', 'TGGAGATAACCAGCTTTGGATTATCCCGCATGCAACATTCCTGTGATCACATAATCCTCTTCTTCATCCT\\n', 'CATATGAAATAAATGAAGAGAGCTTCCTCATTCAAA\\n', '\\n', '>NM_001198.4 Homo sapiens PR/SET domain 1 (PRDM1), transcript variant 1, mRNA\\n', 'AACACAGACAAAGTGCTGCCGTGACACTCGGCCCTCCAGTGTTGCGGAGAGGCAAGAGCAGCGACCGCGG\\n', 'CACCTGTCCGCCCGGAGCTGGGACGCGGGCGCCCGGGCGGCCGGACGAAGCGAGGAGGGACCGCCGAGGT\\n', 'GCGCGTCTGTGCGGCTCAGCCTGGCGGGGGACGCGGGGAGAATGTGGACTGGGTAGAGATGAACGAGACT\\n', 'TTTCTCAGATGTTGGATATTTGCTTGGAAAAACGTGTGGGTACGACCTTGGCTGCCCCCAAGTGTAACTC\\n', 'CAGCACTGTGAGGTTTCAGGGATTGGCAGAGGGGACCAAGGGGACCATGAAAATGGACATGGAGGATGCG\\n', 'GATATGACTCTGTGGACAGAGGCTGAGTTTGAAGAGAAGTGTACATACATTGTGAACGACCACCCCTGGG\\n', 'ATTCTGGTGCTGATGGCGGTACTTCGGTTCAGGCGGAGGCATCCTTACCAAGGAATCTGCTTTTCAAGTA\\n', 'TGCCACCAACAGTGAAGAGGTTATTGGAGTGATGAGTAAAGAATACATACCAAAGGGCACACGTTTTGGA\\n', 'CCCCTAATAGGTGAAATCTACACCAATGACACAGTTCCTAAGAACGCCAACAGGAAATATTTTTGGAGGA\\n', 'TCTATTCCAGAGGGGAGCTTCACCACTTCATTGACGGCTTTAATGAAGAGAAAAGCAACTGGATGCGCTA\\n', 'TGTGAATCCAGCACACTCTCCCCGGGAGCAAAACCTGGCTGCGTGTCAGAACGGGATGAACATCTACTTC\\n', 'TACACCATTAAGCCCATCCCTGCCAACCAGGAACTTCTTGTGTGGTATTGTCGGGACTTTGCAGAAAGGC\\n', 'TTCACTACCCTTATCCCGGAGAGCTGACAATGATGAATCTCACACAAACACAGAGCAGTCTAAAGCAACC\\n', 'GAGCACTGAGAAAAATGAACTCTGCCCAAAGAATGTCCCAAAGAGAGAGTACAGCGTGAAAGAAATCCTA\\n', 'AAATTGGACTCCAACCCCTCCAAAGGAAAGGACCTCTACCGTTCTAACATTTCACCCCTCACATCAGAAA\\n', 'AGGACCTCGATGACTTTAGAAGACGTGGGAGCCCCGAAATGCCCTTCTACCCTCGGGTCGTTTACCCCAT\\n', 'CCGGGCCCCTCTGCCAGAAGACTTTTTGAAAGCTTCCCTGGCCTACGGGATCGAGAGACCCACGTACATC\\n', 'ACTCGCTCCCCCATTCCATCCTCCACCACTCCAAGCCCCTCTGCAAGAAGCAGCCCCGACCAAAGCCTCA\\n', 'AGAGCTCCAGCCCTCACAGCAGCCCTGGGAATACGGTGTCCCCTGTGGGCCCCGGCTCTCAAGAGCACCG\\n', 'GGACTCCTACGCTTACTTGAACGCGTCCTACGGCACGGAAGGTTTGGGCTCCTACCCTGGCTACGCACCC\\n', 'CTGCCCCACCTCCCGCCAGCTTTCATCCCCTCGTACAACGCTCACTACCCCAAGTTCCTCTTGCCCCCCT\\n', 'ACGGCATGAATTGTAATGGCCTGAGCGCTGTGAGCAGCATGAATGGCATCAACAACTTTGGCCTCTTCCC\\n', 'GAGGCTGTGCCCTGTCTACAGCAATCTCCTCGGTGGGGGCAGCCTGCCCCACCCCATGCTCAACCCCACT\\n', 'TCTCTCCCGAGCTCGCTGCCCTCAGATGGAGCCCGGAGGTTGCTCCAGCCGGAGCATCCCAGGGAGGTGC\\n', 'TTGTCCCGGCGCCCCACAGTGCCTTCTCCTTTACCGGGGCCGCCGCCAGCATGAAGGACAAGGCCTGTAG\\n', 'CCCCACAAGCGGGTCTCCCACGGCGGGAACAGCCGCCACGGCAGAACATGTGGTGCAGCCCAAAGCTACC\\n', 'TCAGCAGCGATGGCAGCCCCCAGCAGCGACGAAGCCATGAATCTCATTAAAAACAAAAGAAACATGACCG\\n', 'GCTACAAGACCCTTCCCTACCCGCTGAAGAAGCAGAACGGCAAGATCAAGTACGAATGCAACGTTTGCGC\\n', 'CAAGACTTTCGGCCAGCTCTCCAATCTGAAGGTCCACCTGAGAGTGCACAGTGGAGAACGGCCTTTCAAA\\n', 'TGTCAGACTTGCAACAAGGGCTTTACTCAGCTCGCCCACCTGCAGAAACACTACCTGGTACACACGGGAG\\n', 'AAAAGCCACATGAATGCCAGGTCTGCCACAAGAGATTTAGCAGCACCAGCAATCTCAAGACCCACCTGCG\\n', 'ACTCCATTCTGGAGAGAAACCATACCAATGCAAGGTGTGCCCTGCCAAGTTCACCCAGTTTGTGCACCTG\\n', 'AAACTGCACAAGCGTCTGCACACCCGGGAGCGGCCCCACAAGTGCTCCCAGTGCCACAAGAACTACATCC\\n', 'ATCTCTGTAGCCTCAAGGTTCACCTGAAAGGGAACTGCGCTGCGGCCCCGGCGCCTGGGCTGCCCTTGGA\\n', 'AGATCTGACCCGAATCAATGAAGAAATCGAGAAGTTTGACATCAGTGACAATGCTGACCGGCTCGAGGAC\\n', 'GTGGAGGATGACATCAGTGTGATCTCTGTAGTGGAGAAGGAAATTCTGGCCGTGGTCAGAAAAGAGAAAG\\n', 'AAGAAACTGGCCTGAAAGTGTCTTTGCAAAGAAACATGGGGAATGGACTCCTCTCCTCAGGGTGCAGCCT\\n', 'TTATGAGTCATCAGATCTACCCCTCATGAAGTTGCCTCCCAGCAACCCACTACCTCTGGTACCTGTAAAG\\n', 'GTCAAACAAGAAACAGTTGAACCAATGGATCCTTAAGATTTTCAGAAAACACTTATTTTGTTTCTTAAGT\\n', 'TATGACTTGGTGAGTCAGGGTGCCTGTAGGAAGTGGCTTGTACATAATCCCAGCTCTGCAAAGCTCTCTC\\n', 'GACAGCAAATGGTTTCCCCTCACCTCTGGAATTAAAGAAGGAACTCCAAAGTTACTGAAATCTCAGGGCA\\n', 'TGAACAAGGCAAAGGCCATATATATATATATATATATATCTGTATACATATTATATATACTTATTTACAC\\n', 'CTGTGTCTATATATTTGCCCCTGTGTATTTTGAATATTTGTGTGGACATGTTTGCATAGCCTTCCCATTA\\n', 'CTAAGACTATTACCTAGTCATAATTATTTTTTCAATGATAATCCTTCATAATTTATTATACAATTTATCA\\n', 'TTCAGAAAGCAATAATTAAAAAAGTTTACAATGACTGGAAAGATTCCTTGTAATTTGAGTATAAATGTAT\\n', 'TTTTGTCTTGTGGCCATTCTTTGTAGATAATTTCTGCACATCTGTATAAGTACCTAAGATTTAGTTAAAC\\n', 'AAATATATGACTTCAGTCAACCTCTCTCTCTAATAATGGTTTGAAAATGAGGTTTGGGTAATTGCCAATG\\n', 'TTGGACAGTTGATGTGTTCATTCCTGGGATCCTATCATTTGAACAGCATTGTACATAACTTGGGGGTATG\\n', 'TGTGCAGGATTACCCAAGAATAACTTAAGTAGAAGAAACAAGAAAGGGAATCTTGTATATTTTTGTTGAT\\n', 'AGTTCATGTTTTTCCCCCAGCCACAATTTTACCGGAAGGGTGACAGGAAGGCTTTACCAACCTGTCTCTC\\n', 'CCTCCAAAAGAGCAGAATCCTCCCACCGCCCTGCCCTCCCCACCGAGTCCTGTGGCCATTCAGAGCGGCC\\n', 'ACATGACTTTTGCATCCATTGTATTATCAGAAAATGTGAAGAAGAAAAAAATGCCATGTTTTAAAACCAC\\n', 'TGCGAAAATTTCCCCAAAGCATAGGTGGCTTTGTGTGTGTGCGATTTGGGGGCTTGAGTCTGGGTGGTGT\\n', 'TTTGTTGTTGGTTTTTGTTGCTTTTTTTTTTTTTTTTTTTTTAATGTCAAAATTGCACAAACATGGTGCT\\n', 'CTACCAGGAAGGATTCGAGGTAGATAGGCTCAGGCCACACTTTAAAAACAAACACACAAACAACAAAAAA\\n', 'CGGGTATTCTAGTCATCTTGGGGTAAAAGCGGGTAATGAACATTCCTATCCCCAACACATCAATTGTATT\\n', 'TTTTCTGTAAAACTCAGATTTTCCTCAGTATTTGTGTTTTTACATTTTATGGTTAATTTAATGGAAGATG\\n', 'AAAGGGCATTGCAAAGTTGTTCAACAACAGTTACCTCATTGAGTGTGTCCAGTAGTGCAGGAAATGATGT\\n', 'CTTATCTAATGATTTGCTTCTCTAGAGGAGAAACCGAGTAAATGTGCTCCAGCAAGATAGACTTTGTGTT\\n', 'ATTCTATCTTTTATTCTGCTAAGCCCAAAGATTACATGTTGGTGTTCAAAGTGTAGCAAAAAATGATGTA\\n', 'TATTTATAAATCTATTTATACCACTATATCATATGTATATATATTTATAACCACTTAAATTGTGAGCCAA\\n', 'GCCATGTAAAAGATCTACTTTTTCTAAGGGCAAAAAAAAAAAAAAAAAAAAAAGAACACTCCTTTCTGAG\\n', 'ACTTTGCTTAATACTTGGTGACCTCACAATCACGTCGGTATGATTGGGCACCCTTGCCTACTGTAAGAGA\\n', 'CCCTAAAACCTTGGTGCAGTGGTGGGGACCACAAAACAACCAGGGAGGAAGAGATACATCATTTTTTAGT\\n', 'ATTAAGGACCATCTAAGACAGCTCTATTTTTTTTTTGCCACTTTATGATTATGTGGTCACACCCAAGTCA\\n', 'CAGAAATAAAAAACTGACTTTACCGCTGCAATTTTTCTGTTTTCCTCCTTACTAAATACTGATACATTAC\\n', 'TCCAATCTATTTTATAATTATATTTGACATTTTGTTCACATCAACTAATGTTCACCTGTAGAAGAGAACA\\n', 'AATTTCGAATAATCCAGGGAAACCCAAGAGCCTTACTGGTCTTCTGTAACTTCCAAGACTGACAGCTTTT\\n', 'TATGTATCAGTGTTTGATAAACACAGTCCTTAACTGAAGGTAAACCAAAGCATCACGTTGACATTAGACC\\n', 'AAATACTTTTGATTCCCAACTACTCGTTTGTTCTTTTTCTCCTTTTGTGCTTTCCCATAGTGAGAATTTT\\n', 'TATAAAGACTTCTTGCTTCTCTCACCATCCATCCTTCTCTTTTCTGCCTCTTACATGTGAATGTTGAGCC\\n', 'CACAATCAACAGTGGTTTTATTTTTTCCTCTACTCAAAGTTAAAACTGACCAAAGTTACTGGCTTTTTAC\\n', 'TTTGCTAGAACAACAAACTATCTTATGTTTACATACTGGTTTACAATGTTATTTATGTGCAAATTGTCAA\\n', 'AATGTAAATTAAATATAAATGTTCATGCTTTACCAAAA\\n', '\\n']\n"
          ]
        }
      ]
    },
    {
      "cell_type": "code",
      "source": [
        "!apt-get install -y clustalo\n",
        "!clustalo --help\n",
        "\n"
      ],
      "metadata": {
        "colab": {
          "base_uri": "https://localhost:8080/"
        },
        "id": "5C7Y1CORUyt0",
        "outputId": "6ae48a2d-6f2c-48d8-f275-c8df408c1087"
      },
      "execution_count": 4,
      "outputs": [
        {
          "output_type": "stream",
          "name": "stdout",
          "text": [
            "Reading package lists... Done\n",
            "Building dependency tree... Done\n",
            "Reading state information... Done\n",
            "The following additional packages will be installed:\n",
            "  libargtable2-0\n",
            "The following NEW packages will be installed:\n",
            "  clustalo libargtable2-0\n",
            "0 upgraded, 2 newly installed, 0 to remove and 49 not upgraded.\n",
            "Need to get 273 kB of archives.\n",
            "After this operation, 694 kB of additional disk space will be used.\n",
            "Get:1 http://archive.ubuntu.com/ubuntu jammy/universe amd64 libargtable2-0 amd64 13-1.1 [14.1 kB]\n",
            "Get:2 http://archive.ubuntu.com/ubuntu jammy/universe amd64 clustalo amd64 1.2.4-7 [259 kB]\n",
            "Fetched 273 kB in 1s (188 kB/s)\n",
            "Selecting previously unselected package libargtable2-0.\n",
            "(Reading database ... 123632 files and directories currently installed.)\n",
            "Preparing to unpack .../libargtable2-0_13-1.1_amd64.deb ...\n",
            "Unpacking libargtable2-0 (13-1.1) ...\n",
            "Selecting previously unselected package clustalo.\n",
            "Preparing to unpack .../clustalo_1.2.4-7_amd64.deb ...\n",
            "Unpacking clustalo (1.2.4-7) ...\n",
            "Setting up libargtable2-0 (13-1.1) ...\n",
            "Setting up clustalo (1.2.4-7) ...\n",
            "Processing triggers for libc-bin (2.35-0ubuntu3.4) ...\n",
            "/sbin/ldconfig.real: /usr/local/lib/libtbbmalloc_proxy.so.2 is not a symbolic link\n",
            "\n",
            "/sbin/ldconfig.real: /usr/local/lib/libur_adapter_level_zero.so.0 is not a symbolic link\n",
            "\n",
            "/sbin/ldconfig.real: /usr/local/lib/libtcm.so.1 is not a symbolic link\n",
            "\n",
            "/sbin/ldconfig.real: /usr/local/lib/libtcm_debug.so.1 is not a symbolic link\n",
            "\n",
            "/sbin/ldconfig.real: /usr/local/lib/libur_loader.so.0 is not a symbolic link\n",
            "\n",
            "/sbin/ldconfig.real: /usr/local/lib/libhwloc.so.15 is not a symbolic link\n",
            "\n",
            "/sbin/ldconfig.real: /usr/local/lib/libumf.so.0 is not a symbolic link\n",
            "\n",
            "/sbin/ldconfig.real: /usr/local/lib/libtbb.so.12 is not a symbolic link\n",
            "\n",
            "/sbin/ldconfig.real: /usr/local/lib/libtbbbind_2_0.so.3 is not a symbolic link\n",
            "\n",
            "/sbin/ldconfig.real: /usr/local/lib/libur_adapter_opencl.so.0 is not a symbolic link\n",
            "\n",
            "/sbin/ldconfig.real: /usr/local/lib/libtbbmalloc.so.2 is not a symbolic link\n",
            "\n",
            "/sbin/ldconfig.real: /usr/local/lib/libtbbbind_2_5.so.3 is not a symbolic link\n",
            "\n",
            "/sbin/ldconfig.real: /usr/local/lib/libtbbbind.so.3 is not a symbolic link\n",
            "\n",
            "Processing triggers for man-db (2.10.2-1) ...\n",
            "Clustal Omega - 1.2.4 (AndreaGiacomo)\n",
            "\n",
            "If you like Clustal-Omega please cite:\n",
            " Sievers F, Wilm A, Dineen D, Gibson TJ, Karplus K, Li W, Lopez R, McWilliam H, Remmert M, Söding J, Thompson JD, Higgins DG.\n",
            " Fast, scalable generation of high-quality protein multiple sequence alignments using Clustal Omega.\n",
            " Mol Syst Biol. 2011 Oct 11;7:539. doi: 10.1038/msb.2011.75. PMID: 21988835.\n",
            "If you don't like Clustal-Omega, please let us know why (and cite us anyway).\n",
            "\n",
            "Check http://www.clustal.org for more information and updates.\n",
            "\n",
            "Usage: clustalo [-hv] [-i {<file>,-}] [--hmm-in=<file>]... [--hmm-batch=<file>] [--dealign] [--profile1=<file>] [--profile2=<file>] [--is-profile] [-t {Protein, RNA, DNA}] [--infmt={a2m=fa[sta],clu[stal],msf,phy[lip],selex,st[ockholm],vie[nna]}] [--distmat-in=<file>] [--distmat-out=<file>] [--guidetree-in=<file>] [--guidetree-out=<file>] [--pileup] [--full] [--full-iter] [--cluster-size=<n>] [--clustering-out=<file>] [--trans=<n>] [--posterior-out=<file>] [--use-kimura] [--percent-id] [-o {file,-}] [--outfmt={a2m=fa[sta],clu[stal],msf,phy[lip],selex,st[ockholm],vie[nna]}] [--residuenumber] [--wrap=<n>] [--output-order={input-order,tree-order}] [--iterations=<n>] [--max-guidetree-iterations=<n>] [--max-hmm-iterations=<n>] [--maxnumseq=<n>] [--maxseqlen=<l>] [--auto] [--threads=<n>] [--pseudo=<file>] [-l <file>] [--version] [--long-version] [--force] [--MAC-RAM=<n>]\n",
            "\n",
            "A typical invocation would be: clustalo -i my-in-seqs.fa -o my-out-seqs.fa -v\n",
            "See below for a list of all options.\n",
            "                            \n",
            "Sequence Input:\n",
            "  -i, --in, --infile={<file>,-} Multiple sequence input file (- for stdin)\n",
            "  --hmm-in=<file>           HMM input files\n",
            "  --hmm-batch=<file>        specify HMMs for individual sequences\n",
            "  --dealign                 Dealign input sequences\n",
            "  --profile1, --p1=<file>   Pre-aligned multiple sequence file (aligned columns will be kept fix)\n",
            "  --profile2, --p2=<file>   Pre-aligned multiple sequence file (aligned columns will be kept fix)\n",
            "  --is-profile              disable check if profile, force profile (default no)\n",
            "  -t, --seqtype={Protein, RNA, DNA} Force a sequence type (default: auto)\n",
            "  --infmt={a2m=fa[sta],clu[stal],msf,phy[lip],selex,st[ockholm],vie[nna]} Forced sequence input file format (default: auto)\n",
            "                            \n",
            "Clustering:\n",
            "  --distmat-in=<file>       Pairwise distance matrix input file (skips distance computation)\n",
            "  --distmat-out=<file>      Pairwise distance matrix output file\n",
            "  --guidetree-in=<file>     Guide tree input file (skips distance computation and guide-tree clustering step)\n",
            "  --guidetree-out=<file>    Guide tree output file\n",
            "  --pileup                  Sequentially align sequences\n",
            "  --full                    Use full distance matrix for guide-tree calculation (might be slow; mBed is default)\n",
            "  --full-iter               Use full distance matrix for guide-tree calculation during iteration (might be slowish; mBed is default)\n",
            "  --cluster-size=<n>        soft maximum of sequences in sub-clusters\n",
            "  --clustering-out=<file>   Clustering output file\n",
            "  --trans=<n>               use transitivity (default: 0)\n",
            "  --posterior-out=<file>    Posterior probability output file\n",
            "  --use-kimura              use Kimura distance correction for aligned sequences (default no)\n",
            "  --percent-id              convert distances into percent identities (default no)\n",
            "                            \n",
            "Alignment Output:\n",
            "  -o, --out, --outfile={file,-} Multiple sequence alignment output file (default: stdout)\n",
            "  --outfmt={a2m=fa[sta],clu[stal],msf,phy[lip],selex,st[ockholm],vie[nna]} MSA output file format (default: fasta)\n",
            "  --residuenumber, --resno  in Clustal format print residue numbers (default no)\n",
            "  --wrap=<n>                number of residues before line-wrap in output\n",
            "  --output-order={input-order,tree-order} MSA output order like in input/guide-tree\n",
            "                            \n",
            "Iteration:\n",
            "  --iterations, --iter=<n>  Number of (combined guide-tree/HMM) iterations\n",
            "  --max-guidetree-iterations=<n> Maximum number of guidetree iterations\n",
            "  --max-hmm-iterations=<n>  Maximum number of HMM iterations\n",
            "                            \n",
            "Limits (will exit early, if exceeded):\n",
            "  --maxnumseq=<n>           Maximum allowed number of sequences\n",
            "  --maxseqlen=<l>           Maximum allowed sequence length\n",
            "                            \n",
            "Miscellaneous:\n",
            "  --auto                    Set options automatically (might overwrite some of your options)\n",
            "  --threads=<n>             Number of processors to use\n",
            "  --pseudo=<file>           Input file for pseudo-count parameters\n",
            "  -l, --log=<file>          Log all non-essential output to this file\n",
            "  -h, --help                Print this help and exit\n",
            "  -v, --verbose             Verbose output (increases if given multiple times)\n",
            "  --version                 Print version information and exit\n",
            "  --long-version            Print long version information and exit\n",
            "  --force                   Force file overwriting\n"
          ]
        }
      ]
    },
    {
      "cell_type": "code",
      "source": [
        "from Bio.Align.Applications import ClustalOmegaCommandline\n",
        "from Bio import AlignIO\n",
        "\n",
        "\n",
        "input_file = \"sequences.fasta\"                # File with downloaded sequences\n",
        "aligned_file = \"aligned_sequences.fasta\"      # File to save aligned sequences\n",
        "\n",
        "# Align sequences using Clustal Omega\n",
        "clustalomega_cline = ClustalOmegaCommandline(\n",
        "    infile=input_file, outfile=aligned_file, verbose=True, auto=True, force=True\n",
        ")\n",
        "stdout, stderr = clustalomega_cline()\n",
        "alignment = AlignIO.read(aligned_file, \"fasta\")\n",
        "\n"
      ],
      "metadata": {
        "id": "qwRTeP9g3wOq"
      },
      "execution_count": 13,
      "outputs": []
    },
    {
      "cell_type": "code",
      "source": [
        "\n",
        "from Bio import AlignIO, Phylo\n",
        "from Bio.Phylo.TreeConstruction import DistanceCalculator, DistanceTreeConstructor\n",
        "aligned_file = \"aligned_sequences.fasta\"\n",
        "alignment = AlignIO.read(aligned_file, \"fasta\")\n",
        "calculator = DistanceCalculator(\"identity\")\n",
        "distance_matrix = calculator.get_distance(alignment)\n",
        "\n",
        "constructor = DistanceTreeConstructor()\n",
        "tree = constructor.upgma(distance_matrix)\n",
        "\n",
        "Phylo.draw(tree)"
      ],
      "metadata": {
        "colab": {
          "base_uri": "https://localhost:8080/",
          "height": 449
        },
        "id": "wtv8szm1MtWq",
        "outputId": "6ce3356b-3f2b-447d-df21-a024967e9efa"
      },
      "execution_count": 14,
      "outputs": [
        {
          "output_type": "display_data",
          "data": {
            "text/plain": [
              "<Figure size 640x480 with 1 Axes>"
            ],
            "image/png": "[encoded data removed]"
          },
          "metadata": {}
        }
      ]
    }
  ]
}